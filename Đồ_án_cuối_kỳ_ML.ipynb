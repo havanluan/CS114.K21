{
  "nbformat": 4,
  "nbformat_minor": 0,
  "metadata": {
    "colab": {
      "name": "Đồ án cuối kỳ_ML",
      "provenance": [],
      "collapsed_sections": [],
      "toc_visible": true,
      "authorship_tag": "ABX9TyMXKhaALwsAJpdMQKeJblvY",
      "include_colab_link": true
    },
    "kernelspec": {
      "name": "python3",
      "display_name": "Python 3"
    }
  },
  "cells": [
    {
      "cell_type": "markdown",
      "metadata": {
        "id": "view-in-github",
        "colab_type": "text"
      },
      "source": [
        "<a href=\"https://colab.research.google.com/github/havanluan/CS114.K21/blob/master/%C4%90%E1%BB%93_%C3%A1n_cu%E1%BB%91i_k%E1%BB%B3_ML.ipynb\" target=\"_parent\"><img src=\"https://colab.research.google.com/assets/colab-badge.svg\" alt=\"Open In Colab\"/></a>"
      ]
    },
    {
      "cell_type": "markdown",
      "metadata": {
        "id": "kPlZH8v-2NE1",
        "colab_type": "text"
      },
      "source": [
        "# MÔ TẢ ĐỒ ÁN CUỐI KÌ MÔN MACHINE LEARNING "
      ]
    },
    {
      "cell_type": "markdown",
      "metadata": {
        "id": "D0X7W3e62e7A",
        "colab_type": "text"
      },
      "source": [
        "## DS NHÓM:\n",
        "18521060 Trịnh Hưng Long\n",
        "18521274 Lỡ Đình Phương\n",
        "18521062 Hà Văn Luân"
      ]
    },
    {
      "cell_type": "markdown",
      "metadata": {
        "id": "ybFnBAp8jyGP",
        "colab_type": "text"
      },
      "source": [
        "## 1. MÔ TẢ BÀI TOÁN"
      ]
    },
    {
      "cell_type": "markdown",
      "metadata": {
        "id": "V2e0-jdzj46z",
        "colab_type": "text"
      },
      "source": [
        "Hiện nay nhu cầu mua hàng qua mạng của người dùng ngày càng trở nên phát triển mạnh hơn do những lợi ích mà nó mang lại, như tiện lợi, chi phí rẻ, có nhiều chương trình khuyến mãi hấp dẫn, có thể ngồi ở nhà để xem sản phẩm mà không cần phải đến tận nơi để xem, … Tuy nhiên, việc mua hàng qua mạng cũng có những nhược điểm, trong đó có việc người dùng không thể tận mắt đánh giá sản phẩm của mình như mua trực tiếp tại các cửa hàng được. Vì vậy, các mục bình luận về sản phẩm của những người dùng đã sử dụng qua sản phẩm đóng vai trò quan trọng trong việc đánh giá chất lượng các sản phẩm tương ứng, các bình luận chủ yếu gồm 2 loại: tích cực hoặc tiêu cực. Tuy nhiên, số lượng các bình luận trên các trang thương mại điện tử rất nhiều, gây khó khăn khi đánh giá từng bình luận bằng tay, vì vậy, các thuật toán máy học sẽ hỗ trợ đắc lực cho việc phân loại này. "
      ]
    },
    {
      "cell_type": "markdown",
      "metadata": {
        "id": "4X6jJym9j-Nf",
        "colab_type": "text"
      },
      "source": [
        "***Input:*** Một bình luận về sản phẩm của khách hàng bằng tiếng Việt \n",
        "\n",
        "***Output:*** Bình luận đó là tiêu cực hay tích cực "
      ]
    },
    {
      "cell_type": "markdown",
      "metadata": {
        "id": "m7qTukNJkpF6",
        "colab_type": "text"
      },
      "source": [
        "## 2. MÔ TẢ VỀ BỘ DỮ LIỆU"
      ]
    },
    {
      "cell_type": "markdown",
      "metadata": {
        "id": "gJxBUCdZkwT5",
        "colab_type": "text"
      },
      "source": [
        "**- Cách thức xây dựng:** crawl bộ dữ liệu từ các trang thương mại điện tử như tiki, thegioididong, … \n",
        "\n",
        "**- Số lượng:**Dự tính 2000 bình luận \n",
        "\n",
        "**- Các thao tác tiền xử lý:** loại bỏ số, dấu câu, các chữ cái đơn, loại bỏ các stop words, sử dụng công cụ xử lý tiếng Việt có sẵn như vnTokenizer, vntk,… \n",
        "\n",
        "  Ngoài ra, các bình luận trên mạng có thể có những bình luận như “sp tốt, tks shop”, “qá toẹt vời”,…, về mặt ý nghĩa thì ví dụ như: “sp tốt, tks shop”, “sản phẩm tốt, thanks shop”, “sản phẩm tốt, cảm ơn shop” có ý nghĩa như nhau, tuy nhiên máy sẽ không hiểu được điều này, khi trích xuất đặc trưng thì sẽ ra những vector khác nhau, nên ta sẽ có một bước chuẩn hóa dữ liệu để tránh tình trạng trên, ví dụ các từ như “tks”, “thanks”,… sẽ được chuyển về chữ “cảm ơn”. \n",
        "\n",
        "**- Phân chia:** train/test: 80/20, có thể thử với 70/30 "
      ]
    },
    {
      "cell_type": "markdown",
      "metadata": {
        "id": "ctCNlPl0xt6P",
        "colab_type": "text"
      },
      "source": [
        "## 3. MÔ TẢ Ề ĐẶC TRƯNG: "
      ]
    },
    {
      "cell_type": "markdown",
      "metadata": {
        "id": "k0sK32nxyJ7x",
        "colab_type": "text"
      },
      "source": [
        "**Vấn đề:** Có các từ với mức độ quan trọng và tần số xuất hiện thường xuyên khác nhau. Đòi hỏi phải đặc trọng số phù hợp với từng từ (đặc trưng)."
      ]
    },
    {
      "cell_type": "markdown",
      "metadata": {
        "id": "Z244vSBMx80Y",
        "colab_type": "text"
      },
      "source": [
        "***Giải pháp:*** Sử dụng kỹ thuật TF-IDF để trích xuất đặc trưng "
      ]
    },
    {
      "cell_type": "markdown",
      "metadata": {
        "id": "N1Wju_XkynDt",
        "colab_type": "text"
      },
      "source": [
        "## 4. Mô tả về thuật toán máy học: "
      ]
    },
    {
      "cell_type": "markdown",
      "metadata": {
        "id": "rdavsBwKyyYE",
        "colab_type": "text"
      },
      "source": [
        " Mỗi bình luận sẽ được biễu diễn dưới dạng các vector đặc trưng, vì vậy nên nhóm chọn các thuật toán máy học classification phổ biến liên quan tới vector đặc trưng như SVM, Randomforest, Naïve Bayes, … để tiến hành train model."
      ]
    },
    {
      "cell_type": "markdown",
      "metadata": {
        "id": "GeuFYDCI09Og",
        "colab_type": "text"
      },
      "source": [
        "## 5. CÀI ĐẶT, TINH CHỈNH THAM SỐ"
      ]
    },
    {
      "cell_type": "markdown",
      "metadata": {
        "id": "3mBb7ly-1Ll1",
        "colab_type": "text"
      },
      "source": [
        "Sử dụng công cụ GridSearchCV() có sẵn trong Sklearn để lựa chọn ra tham số tốt nhất cho mô hình. "
      ]
    },
    {
      "cell_type": "markdown",
      "metadata": {
        "id": "QmmPekjL1Om3",
        "colab_type": "text"
      },
      "source": [
        "## 6. ĐÁNH GIÁ KẾT QUẢ, KẾT LUẬN"
      ]
    },
    {
      "cell_type": "markdown",
      "metadata": {
        "id": "5qws5b3A1UaX",
        "colab_type": "text"
      },
      "source": [
        "- Ở bài toán này, mức độ quan trọng của việc nhận diện đúng bình luận tích cực và tiêu cực đều như nhau, nên ta quan tâm tới giá trị f1_score và dùng giá trị này để đánh giá model và đưa ra kết luận."
      ]
    }
  ]
}