{
  "nbformat": 4,
  "nbformat_minor": 0,
  "metadata": {
    "colab": {
      "name": "GiuaKi_Round2",
      "provenance": [],
      "collapsed_sections": [],
      "authorship_tag": "ABX9TyN/YhzuYZ/dYEJoW63e51xo",
      "include_colab_link": true
    },
    "kernelspec": {
      "name": "python3",
      "display_name": "Python 3"
    }
  },
  "cells": [
    {
      "cell_type": "markdown",
      "metadata": {
        "id": "view-in-github",
        "colab_type": "text"
      },
      "source": [
        "<a href=\"https://colab.research.google.com/github/havanluan/CS114.K21/blob/master/GiuaKi_Round2.ipynb\" target=\"_parent\"><img src=\"https://colab.research.google.com/assets/colab-badge.svg\" alt=\"Open In Colab\"/></a>"
      ]
    },
    {
      "cell_type": "markdown",
      "metadata": {
        "id": "LLAPIsT2_El3",
        "colab_type": "text"
      },
      "source": [
        "## Load Data"
      ]
    },
    {
      "cell_type": "markdown",
      "metadata": {
        "id": "Y7_gjAGgtb8s",
        "colab_type": "text"
      },
      "source": [
        "***Lấy data từ link bằng thư viện pandas***\n",
        "\n",
        "Dùng method read_csv của pandas để đọc file txt từ link đưa vào.\n",
        "\n",
        "Method này sẽ đọc link và tạo ra một DataFrame với các cột lần lượt là size và time tương ứng. \n",
        "\n",
        "Ta cần rename lại các cột"
      ]
    },
    {
      "cell_type": "code",
      "metadata": {
        "id": "982r4FpF-4EY",
        "colab_type": "code",
        "colab": {}
      },
      "source": [
        "import pandas as pd"
      ],
      "execution_count": null,
      "outputs": []
    },
    {
      "cell_type": "code",
      "metadata": {
        "id": "R3qD9fic_O-1",
        "colab_type": "code",
        "colab": {}
      },
      "source": [
        "url = \"http://cs.uit.edu.vn/data2.txt\""
      ],
      "execution_count": null,
      "outputs": []
    },
    {
      "cell_type": "code",
      "metadata": {
        "id": "eFPtp27L_UvV",
        "colab_type": "code",
        "colab": {}
      },
      "source": [
        "data = pd.read_csv(url, header = None)\n"
      ],
      "execution_count": null,
      "outputs": []
    },
    {
      "cell_type": "code",
      "metadata": {
        "id": "_FcHeK4d_oEs",
        "colab_type": "code",
        "colab": {}
      },
      "source": [
        "data.columns = ['Size','Time']"
      ],
      "execution_count": null,
      "outputs": []
    },
    {
      "cell_type": "code",
      "metadata": {
        "id": "uZXbE8wGBZWf",
        "colab_type": "code",
        "colab": {
          "base_uri": "https://localhost:8080/",
          "height": 402
        },
        "outputId": "fab37932-08df-4da6-e6e3-dd4244f8657e"
      },
      "source": [
        "data"
      ],
      "execution_count": null,
      "outputs": [
        {
          "output_type": "execute_result",
          "data": {
            "text/html": [
              "<div>\n",
              "<style scoped>\n",
              "    .dataframe tbody tr th:only-of-type {\n",
              "        vertical-align: middle;\n",
              "    }\n",
              "\n",
              "    .dataframe tbody tr th {\n",
              "        vertical-align: top;\n",
              "    }\n",
              "\n",
              "    .dataframe thead th {\n",
              "        text-align: right;\n",
              "    }\n",
              "</style>\n",
              "<table border=\"1\" class=\"dataframe\">\n",
              "  <thead>\n",
              "    <tr style=\"text-align: right;\">\n",
              "      <th></th>\n",
              "      <th>Size</th>\n",
              "      <th>Time</th>\n",
              "    </tr>\n",
              "  </thead>\n",
              "  <tbody>\n",
              "    <tr>\n",
              "      <th>0</th>\n",
              "      <td>6083695</td>\n",
              "      <td>0.521842</td>\n",
              "    </tr>\n",
              "    <tr>\n",
              "      <th>1</th>\n",
              "      <td>1954367</td>\n",
              "      <td>0.152648</td>\n",
              "    </tr>\n",
              "    <tr>\n",
              "      <th>2</th>\n",
              "      <td>3734185</td>\n",
              "      <td>0.298548</td>\n",
              "    </tr>\n",
              "    <tr>\n",
              "      <th>3</th>\n",
              "      <td>5839301</td>\n",
              "      <td>0.460480</td>\n",
              "    </tr>\n",
              "    <tr>\n",
              "      <th>4</th>\n",
              "      <td>6343427</td>\n",
              "      <td>0.527977</td>\n",
              "    </tr>\n",
              "    <tr>\n",
              "      <th>...</th>\n",
              "      <td>...</td>\n",
              "      <td>...</td>\n",
              "    </tr>\n",
              "    <tr>\n",
              "      <th>71110</th>\n",
              "      <td>4472112</td>\n",
              "      <td>0.350379</td>\n",
              "    </tr>\n",
              "    <tr>\n",
              "      <th>71111</th>\n",
              "      <td>5471895</td>\n",
              "      <td>0.429955</td>\n",
              "    </tr>\n",
              "    <tr>\n",
              "      <th>71112</th>\n",
              "      <td>9837364</td>\n",
              "      <td>0.801394</td>\n",
              "    </tr>\n",
              "    <tr>\n",
              "      <th>71113</th>\n",
              "      <td>9466593</td>\n",
              "      <td>0.776407</td>\n",
              "    </tr>\n",
              "    <tr>\n",
              "      <th>71114</th>\n",
              "      <td>4080801</td>\n",
              "      <td>0.314468</td>\n",
              "    </tr>\n",
              "  </tbody>\n",
              "</table>\n",
              "<p>71115 rows × 2 columns</p>\n",
              "</div>"
            ],
            "text/plain": [
              "          Size      Time\n",
              "0      6083695  0.521842\n",
              "1      1954367  0.152648\n",
              "2      3734185  0.298548\n",
              "3      5839301  0.460480\n",
              "4      6343427  0.527977\n",
              "...        ...       ...\n",
              "71110  4472112  0.350379\n",
              "71111  5471895  0.429955\n",
              "71112  9837364  0.801394\n",
              "71113  9466593  0.776407\n",
              "71114  4080801  0.314468\n",
              "\n",
              "[71115 rows x 2 columns]"
            ]
          },
          "metadata": {
            "tags": []
          },
          "execution_count": 103
        }
      ]
    },
    {
      "cell_type": "markdown",
      "metadata": {
        "id": "_q5WgN3RB8MG",
        "colab_type": "text"
      },
      "source": [
        "## Visualize Data"
      ]
    },
    {
      "cell_type": "markdown",
      "metadata": {
        "id": "fCM2a_0ztuad",
        "colab_type": "text"
      },
      "source": [
        "// Biểu diễn dữ liệu thể hiện sự biến thiên của Time phụ thuộc vào Size"
      ]
    },
    {
      "cell_type": "code",
      "metadata": {
        "id": "6k1tRsiJB7w_",
        "colab_type": "code",
        "colab": {}
      },
      "source": [
        "import matplotlib.pyplot as plt\n",
        "import numpy as np"
      ],
      "execution_count": null,
      "outputs": []
    },
    {
      "cell_type": "code",
      "metadata": {
        "id": "IrajJP-NCpwO",
        "colab_type": "code",
        "colab": {}
      },
      "source": [
        "X = data.values[:,0].copy()\n",
        "y = data.values[:,1].copy()"
      ],
      "execution_count": null,
      "outputs": []
    },
    {
      "cell_type": "code",
      "metadata": {
        "id": "Be5yn0x1DO8i",
        "colab_type": "code",
        "colab": {}
      },
      "source": [
        "X = np.array(X)\n",
        "y = np.array(y)"
      ],
      "execution_count": null,
      "outputs": []
    },
    {
      "cell_type": "code",
      "metadata": {
        "id": "n5O2srtyFDoL",
        "colab_type": "code",
        "colab": {
          "base_uri": "https://localhost:8080/",
          "height": 312
        },
        "outputId": "a97b2ef0-dc4c-4888-8ea4-3481023b3615"
      },
      "source": [
        "plt.scatter(X, y, c='coral')\n",
        "plt.gca().update(dict(title='SIZE AND TIME', xlabel='Size', ylabel='Time'))"
      ],
      "execution_count": null,
      "outputs": [
        {
          "output_type": "execute_result",
          "data": {
            "text/plain": [
              "[Text(0.5, 1.0, 'SIZE AND TIME'), Text(0.5, 0, 'Size'), Text(0, 0.5, 'Time')]"
            ]
          },
          "metadata": {
            "tags": []
          },
          "execution_count": 107
        },
        {
          "output_type": "display_data",
          "data": {
            "image/png": "[encoded data removed]",
            "text/plain": [
              "<Figure size 432x288 with 1 Axes>"
            ]
          },
          "metadata": {
            "tags": [],
            "needs_background": "light"
          }
        }
      ]
    },
    {
      "cell_type": "markdown",
      "metadata": {
        "id": "nU70kAedPL56",
        "colab_type": "text"
      },
      "source": [
        "## Split Data"
      ]
    },
    {
      "cell_type": "markdown",
      "metadata": {
        "id": "PNtTVOdgzg5C",
        "colab_type": "text"
      },
      "source": [
        ""
      ]
    },
    {
      "cell_type": "markdown",
      "metadata": {
        "id": "A09Uj7mbwJK2",
        "colab_type": "text"
      },
      "source": [
        "***Phân chia dữ liệu thành hai tập train và test, trong đó tập test chiếm 20%***"
      ]
    },
    {
      "cell_type": "code",
      "metadata": {
        "id": "6nCVUhT4PONU",
        "colab_type": "code",
        "colab": {}
      },
      "source": [
        "from sklearn.model_selection import train_test_split"
      ],
      "execution_count": null,
      "outputs": []
    },
    {
      "cell_type": "code",
      "metadata": {
        "id": "S5uXx7uYPela",
        "colab_type": "code",
        "colab": {}
      },
      "source": [
        "X_train, X_test, y_train, y_test = train_test_split(X, y, test_size=0.2)"
      ],
      "execution_count": null,
      "outputs": []
    },
    {
      "cell_type": "markdown",
      "metadata": {
        "id": "jc3y2SUmOe-_",
        "colab_type": "text"
      },
      "source": [
        "## Train Model"
      ]
    },
    {
      "cell_type": "markdown",
      "metadata": {
        "id": "Yok21LfwwWQY",
        "colab_type": "text"
      },
      "source": [
        "***Import model từ sklearn***\n",
        "\n",
        "Train model với tập dữ liệu train và in ra các tham số"
      ]
    },
    {
      "cell_type": "code",
      "metadata": {
        "id": "1ipCLXhDOlsL",
        "colab_type": "code",
        "colab": {}
      },
      "source": [
        "from sklearn.linear_model import LinearRegression\n",
        "model = LinearRegression(fit_intercept=True)"
      ],
      "execution_count": null,
      "outputs": []
    },
    {
      "cell_type": "code",
      "metadata": {
        "id": "rSokHaiDOoPy",
        "colab_type": "code",
        "colab": {
          "base_uri": "https://localhost:8080/",
          "height": 34
        },
        "outputId": "13c36698-e5a0-4834-9828-8cfb139ae8d6"
      },
      "source": [
        "model.fit(X_train[:, np.newaxis], y_train)"
      ],
      "execution_count": null,
      "outputs": [
        {
          "output_type": "execute_result",
          "data": {
            "text/plain": [
              "LinearRegression(copy_X=True, fit_intercept=True, n_jobs=None, normalize=False)"
            ]
          },
          "metadata": {
            "tags": []
          },
          "execution_count": 111
        }
      ]
    },
    {
      "cell_type": "code",
      "metadata": {
        "id": "RIx8oxX5QVyr",
        "colab_type": "code",
        "colab": {
          "base_uri": "https://localhost:8080/",
          "height": 50
        },
        "outputId": "6c667f67-f178-46ae-8d64-67c21cebf445"
      },
      "source": [
        "print(\"Model slope:    \", model.coef_[0])\n",
        "print(\"Model intercept:\", model.intercept_)"
      ],
      "execution_count": null,
      "outputs": [
        {
          "output_type": "stream",
          "text": [
            "Model slope:     8.45467470664112e-08\n",
            "Model intercept: -0.015846700508174105\n"
          ],
          "name": "stdout"
        }
      ]
    },
    {
      "cell_type": "markdown",
      "metadata": {
        "id": "1iXbqAyEPFNk",
        "colab_type": "text"
      },
      "source": [
        "## Predict Test Set"
      ]
    },
    {
      "cell_type": "markdown",
      "metadata": {
        "id": "Vxtn0YErwv-K",
        "colab_type": "text"
      },
      "source": [
        "***Dùng model đã train ở trên, dự đoán trên tập test***\n",
        "\n",
        "Màu cam được biểu diễn là các điểm dữ liệu, màu xanh là đường thẳng theo hàm hypothesis có được sau khi train model"
      ]
    },
    {
      "cell_type": "code",
      "metadata": {
        "id": "Hvl-Q1QWPpJz",
        "colab_type": "code",
        "colab": {}
      },
      "source": [
        "y_pre = model.predict(X_test[:, np.newaxis])"
      ],
      "execution_count": null,
      "outputs": []
    },
    {
      "cell_type": "code",
      "metadata": {
        "id": "iHqOMwHRQkQl",
        "colab_type": "code",
        "colab": {
          "base_uri": "https://localhost:8080/",
          "height": 295
        },
        "outputId": "5e09db90-b2a6-4ed7-91e7-28537959e648"
      },
      "source": [
        "plt.scatter(X, y, c='coral')\n",
        "plt.plot(X_test,y_pre)"
      ],
      "execution_count": null,
      "outputs": [
        {
          "output_type": "execute_result",
          "data": {
            "text/plain": [
              "[<matplotlib.lines.Line2D at 0x7f83ee336278>]"
            ]
          },
          "metadata": {
            "tags": []
          },
          "execution_count": 114
        },
        {
          "output_type": "display_data",
          "data": {
            "image/png": "[encoded data removed]",
            "text/plain": [
              "<Figure size 432x288 with 1 Axes>"
            ]
          },
          "metadata": {
            "tags": [],
            "needs_background": "light"
          }
        }
      ]
    },
    {
      "cell_type": "markdown",
      "metadata": {
        "colab_type": "text",
        "id": "Jmbdtn42RCQL"
      },
      "source": [
        "## Evaluate the model"
      ]
    },
    {
      "cell_type": "markdown",
      "metadata": {
        "colab_type": "text",
        "id": "ZU9xmtaPRCQQ"
      },
      "source": [
        "***Gía trị sai số trung bình***"
      ]
    },
    {
      "cell_type": "code",
      "metadata": {
        "colab_type": "code",
        "id": "Rj0mB-UwRCQR",
        "colab": {}
      },
      "source": [
        "evl = abs(y_pre - y_test)"
      ],
      "execution_count": null,
      "outputs": []
    },
    {
      "cell_type": "code",
      "metadata": {
        "colab_type": "code",
        "id": "7uXq_YzmRCQU",
        "colab": {
          "base_uri": "https://localhost:8080/",
          "height": 34
        },
        "outputId": "f9a48443-d9c4-4ff3-ab30-d10ec6a81380"
      },
      "source": [
        "test_err_tb = evl.mean()\n",
        "print('Sai số trung bình:', test_err_tb)"
      ],
      "execution_count": null,
      "outputs": [
        {
          "output_type": "stream",
          "text": [
            "Sai số trung bình: 0.008381639984565\n"
          ],
          "name": "stdout"
        }
      ]
    },
    {
      "cell_type": "code",
      "metadata": {
        "id": "YGf50mhH2Pf7",
        "colab_type": "code",
        "colab": {}
      },
      "source": [
        "err_tb = evl/y_test\n",
        "err_tb = err_tb.mean()"
      ],
      "execution_count": null,
      "outputs": []
    },
    {
      "cell_type": "code",
      "metadata": {
        "colab_type": "code",
        "id": "leHE2ugBRCQc",
        "colab": {
          "base_uri": "https://localhost:8080/",
          "height": 34
        },
        "outputId": "c3e2bb19-0a0c-4a9f-f7d9-80f4539b9d6a"
      },
      "source": [
        "print('Gia tri trung binh phan tram sai so tren gia tri thuc:', err_tb*100,'%')"
      ],
      "execution_count": null,
      "outputs": [
        {
          "output_type": "stream",
          "text": [
            "Gia tri trung binh phan tram sai so tren gia tri thuc: 27.62787238361138 %\n"
          ],
          "name": "stdout"
        }
      ]
    }
  ]
}