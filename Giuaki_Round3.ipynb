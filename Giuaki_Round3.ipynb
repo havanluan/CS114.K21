{
  "nbformat": 4,
  "nbformat_minor": 0,
  "metadata": {
    "colab": {
      "name": "Giuaki_Round3",
      "provenance": [],
      "authorship_tag": "ABX9TyMmEBe03VVzKhuPKjn+5qgQ",
      "include_colab_link": true
    },
    "kernelspec": {
      "name": "python3",
      "display_name": "Python 3"
    }
  },
  "cells": [
    {
      "cell_type": "markdown",
      "metadata": {
        "id": "view-in-github",
        "colab_type": "text"
      },
      "source": [
        "<a href=\"https://colab.research.google.com/github/havanluan/CS114.K21/blob/master/Giuaki_Round3.ipynb\" target=\"_parent\"><img src=\"https://colab.research.google.com/assets/colab-badge.svg\" alt=\"Open In Colab\"/></a>"
      ]
    },
    {
      "cell_type": "markdown",
      "metadata": {
        "colab_type": "text",
        "id": "VJS0BkQl0YQj"
      },
      "source": [
        "## Load Data"
      ]
    },
    {
      "cell_type": "markdown",
      "metadata": {
        "colab_type": "text",
        "id": "L3tdvPnr0YQo"
      },
      "source": [
        "***Lấy data từ link bằng thư viện pandas***\n",
        "\n",
        "Dùng method read_csv của pandas để đọc file txt từ link đưa vào.\n",
        "\n",
        "Method này sẽ đọc link và tạo ra một DataFrame với các cột lần lượt là size và time tương ứng. \n",
        "\n",
        "Ta cần rename lại các cột"
      ]
    },
    {
      "cell_type": "code",
      "metadata": {
        "id": "982r4FpF-4EY",
        "colab_type": "code",
        "colab": {}
      },
      "source": [
        "import pandas as pd"
      ],
      "execution_count": 0,
      "outputs": []
    },
    {
      "cell_type": "code",
      "metadata": {
        "colab_type": "code",
        "id": "Tnisu4g-0YQ2",
        "colab": {}
      },
      "source": [
        "url = \"http://cs.uit.edu.vn/data3.txt\""
      ],
      "execution_count": 0,
      "outputs": []
    },
    {
      "cell_type": "code",
      "metadata": {
        "colab_type": "code",
        "id": "5FDoICUC0YRA",
        "colab": {}
      },
      "source": [
        "data = pd.read_csv(url, header = None)\n"
      ],
      "execution_count": 0,
      "outputs": []
    },
    {
      "cell_type": "code",
      "metadata": {
        "colab_type": "code",
        "id": "M-7gyoPZ0YRJ",
        "colab": {}
      },
      "source": [
        "data.columns = ['Size','Time']"
      ],
      "execution_count": 0,
      "outputs": []
    },
    {
      "cell_type": "code",
      "metadata": {
        "colab_type": "code",
        "outputId": "de3c4d23-4499-4a7a-990b-7b1be48a4fc4",
        "id": "oh-G0kPZ0YRT",
        "colab": {
          "base_uri": "https://localhost:8080/",
          "height": 402
        }
      },
      "source": [
        "data"
      ],
      "execution_count": 8,
      "outputs": [
        {
          "output_type": "execute_result",
          "data": {
            "text/html": [
              "<div>\n",
              "<style scoped>\n",
              "    .dataframe tbody tr th:only-of-type {\n",
              "        vertical-align: middle;\n",
              "    }\n",
              "\n",
              "    .dataframe tbody tr th {\n",
              "        vertical-align: top;\n",
              "    }\n",
              "\n",
              "    .dataframe thead th {\n",
              "        text-align: right;\n",
              "    }\n",
              "</style>\n",
              "<table border=\"1\" class=\"dataframe\">\n",
              "  <thead>\n",
              "    <tr style=\"text-align: right;\">\n",
              "      <th></th>\n",
              "      <th>Size</th>\n",
              "      <th>Time</th>\n",
              "    </tr>\n",
              "  </thead>\n",
              "  <tbody>\n",
              "    <tr>\n",
              "      <th>0</th>\n",
              "      <td>37837612</td>\n",
              "      <td>4.12166</td>\n",
              "    </tr>\n",
              "    <tr>\n",
              "      <th>1</th>\n",
              "      <td>37395246</td>\n",
              "      <td>3.92089</td>\n",
              "    </tr>\n",
              "    <tr>\n",
              "      <th>2</th>\n",
              "      <td>36610827</td>\n",
              "      <td>3.21540</td>\n",
              "    </tr>\n",
              "    <tr>\n",
              "      <th>3</th>\n",
              "      <td>29555651</td>\n",
              "      <td>2.54506</td>\n",
              "    </tr>\n",
              "    <tr>\n",
              "      <th>4</th>\n",
              "      <td>25928216</td>\n",
              "      <td>2.21831</td>\n",
              "    </tr>\n",
              "    <tr>\n",
              "      <th>...</th>\n",
              "      <td>...</td>\n",
              "      <td>...</td>\n",
              "    </tr>\n",
              "    <tr>\n",
              "      <th>10585</th>\n",
              "      <td>26872494</td>\n",
              "      <td>2.35117</td>\n",
              "    </tr>\n",
              "    <tr>\n",
              "      <th>10586</th>\n",
              "      <td>20753811</td>\n",
              "      <td>1.79155</td>\n",
              "    </tr>\n",
              "    <tr>\n",
              "      <th>10587</th>\n",
              "      <td>33520323</td>\n",
              "      <td>2.90918</td>\n",
              "    </tr>\n",
              "    <tr>\n",
              "      <th>10588</th>\n",
              "      <td>21243264</td>\n",
              "      <td>1.80292</td>\n",
              "    </tr>\n",
              "    <tr>\n",
              "      <th>10589</th>\n",
              "      <td>21380484</td>\n",
              "      <td>1.82795</td>\n",
              "    </tr>\n",
              "  </tbody>\n",
              "</table>\n",
              "<p>10590 rows × 2 columns</p>\n",
              "</div>"
            ],
            "text/plain": [
              "           Size     Time\n",
              "0      37837612  4.12166\n",
              "1      37395246  3.92089\n",
              "2      36610827  3.21540\n",
              "3      29555651  2.54506\n",
              "4      25928216  2.21831\n",
              "...         ...      ...\n",
              "10585  26872494  2.35117\n",
              "10586  20753811  1.79155\n",
              "10587  33520323  2.90918\n",
              "10588  21243264  1.80292\n",
              "10589  21380484  1.82795\n",
              "\n",
              "[10590 rows x 2 columns]"
            ]
          },
          "metadata": {
            "tags": []
          },
          "execution_count": 8
        }
      ]
    },
    {
      "cell_type": "markdown",
      "metadata": {
        "colab_type": "text",
        "id": "pq2xLQ6x0YRe"
      },
      "source": [
        "## Visualize Data"
      ]
    },
    {
      "cell_type": "markdown",
      "metadata": {
        "colab_type": "text",
        "id": "ETZiHK9v0YRg"
      },
      "source": [
        "// Biểu diễn dữ liệu thể hiện sự biến thiên của Time phụ thuộc vào Size"
      ]
    },
    {
      "cell_type": "code",
      "metadata": {
        "colab_type": "code",
        "id": "d1lrE4KD0YRi",
        "colab": {}
      },
      "source": [
        "import matplotlib.pyplot as plt\n",
        "import numpy as np"
      ],
      "execution_count": 0,
      "outputs": []
    },
    {
      "cell_type": "code",
      "metadata": {
        "colab_type": "code",
        "id": "_g92xcOp0YRs",
        "colab": {}
      },
      "source": [
        "X = data.values[:,0].copy()\n",
        "y = data.values[:,1].copy()"
      ],
      "execution_count": 0,
      "outputs": []
    },
    {
      "cell_type": "code",
      "metadata": {
        "colab_type": "code",
        "id": "FRizuk7Y0YR1",
        "colab": {}
      },
      "source": [
        "X = np.array(X)\n",
        "y = np.array(y)"
      ],
      "execution_count": 0,
      "outputs": []
    },
    {
      "cell_type": "code",
      "metadata": {
        "colab_type": "code",
        "outputId": "73e04676-b3fe-4992-fa6a-93b6623b1332",
        "id": "_ky-Yy7l0YR9",
        "colab": {
          "base_uri": "https://localhost:8080/",
          "height": 312
        }
      },
      "source": [
        "plt.scatter(X, y, c='coral')\n",
        "plt.gca().update(dict(title='SIZE AND TIME', xlabel='Size', ylabel='Time'))"
      ],
      "execution_count": 12,
      "outputs": [
        {
          "output_type": "execute_result",
          "data": {
            "text/plain": [
              "[Text(0.5, 1.0, 'SIZE AND TIME'), Text(0.5, 0, 'Size'), Text(0, 0.5, 'Time')]"
            ]
          },
          "metadata": {
            "tags": []
          },
          "execution_count": 12
        },
        {
          "output_type": "display_data",
          "data": {
            "image/png": "[encoded data removed]",
            "text/plain": [
              "<Figure size 432x288 with 1 Axes>"
            ]
          },
          "metadata": {
            "tags": [],
            "needs_background": "light"
          }
        }
      ]
    },
    {
      "cell_type": "markdown",
      "metadata": {
        "colab_type": "text",
        "id": "uJfT1KvY0YSD"
      },
      "source": [
        "## Split Data"
      ]
    },
    {
      "cell_type": "markdown",
      "metadata": {
        "colab_type": "text",
        "id": "vBMYtLxu0YSE"
      },
      "source": [
        ""
      ]
    },
    {
      "cell_type": "markdown",
      "metadata": {
        "colab_type": "text",
        "id": "CWtaD2tt0YSF"
      },
      "source": [
        "***Phân chia dữ liệu thành hai tập train và test, trong đó tập test chiếm 20%***"
      ]
    },
    {
      "cell_type": "code",
      "metadata": {
        "colab_type": "code",
        "id": "DRqtp7kR0YSG",
        "colab": {}
      },
      "source": [
        "from sklearn.model_selection import train_test_split"
      ],
      "execution_count": 0,
      "outputs": []
    },
    {
      "cell_type": "code",
      "metadata": {
        "colab_type": "code",
        "id": "3gsmtoid0YSM",
        "colab": {}
      },
      "source": [
        "X_train, X_test, y_train, y_test = train_test_split(X, y, test_size=0.2)"
      ],
      "execution_count": 0,
      "outputs": []
    },
    {
      "cell_type": "markdown",
      "metadata": {
        "colab_type": "text",
        "id": "SQ-hI_WB0YSQ"
      },
      "source": [
        "## Train Model"
      ]
    },
    {
      "cell_type": "markdown",
      "metadata": {
        "colab_type": "text",
        "id": "lgnBUw-00YSR"
      },
      "source": [
        "***Import model từ sklearn***\n",
        "\n",
        "Train model với tập dữ liệu train và in ra các tham số"
      ]
    },
    {
      "cell_type": "code",
      "metadata": {
        "colab_type": "code",
        "id": "C7cD1wQ00YSS",
        "colab": {}
      },
      "source": [
        "from sklearn.linear_model import LinearRegression\n",
        "model = LinearRegression(fit_intercept=True)"
      ],
      "execution_count": 0,
      "outputs": []
    },
    {
      "cell_type": "code",
      "metadata": {
        "colab_type": "code",
        "outputId": "922822aa-c767-4d5f-ba87-cabb02e29f25",
        "id": "CxmJBUQh0YSX",
        "colab": {
          "base_uri": "https://localhost:8080/",
          "height": 34
        }
      },
      "source": [
        "model.fit(X_train[:, np.newaxis], y_train)"
      ],
      "execution_count": 16,
      "outputs": [
        {
          "output_type": "execute_result",
          "data": {
            "text/plain": [
              "LinearRegression(copy_X=True, fit_intercept=True, n_jobs=None, normalize=False)"
            ]
          },
          "metadata": {
            "tags": []
          },
          "execution_count": 16
        }
      ]
    },
    {
      "cell_type": "code",
      "metadata": {
        "colab_type": "code",
        "outputId": "be18b44d-e5db-424e-9d3c-a3d3518d4f52",
        "id": "2n0EUWHU0YSa",
        "colab": {
          "base_uri": "https://localhost:8080/",
          "height": 50
        }
      },
      "source": [
        "print(\"Model slope:    \", model.coef_[0])\n",
        "print(\"Model intercept:\", model.intercept_)"
      ],
      "execution_count": 17,
      "outputs": [
        {
          "output_type": "stream",
          "text": [
            "Model slope:     9.271232808231004e-08\n",
            "Model intercept: -0.13783554715379953\n"
          ],
          "name": "stdout"
        }
      ]
    },
    {
      "cell_type": "markdown",
      "metadata": {
        "colab_type": "text",
        "id": "oMDG6UIm0YSd"
      },
      "source": [
        "## Predict Test Set"
      ]
    },
    {
      "cell_type": "markdown",
      "metadata": {
        "colab_type": "text",
        "id": "UVBRLWIZ0YSe"
      },
      "source": [
        "***Dùng model đã train ở trên, dự đoán trên tập test***\n",
        "\n",
        "Màu cam được biểu diễn là các điểm dữ liệu, màu xanh là đường thẳng theo hàm hypothesis có được sau khi train model"
      ]
    },
    {
      "cell_type": "code",
      "metadata": {
        "colab_type": "code",
        "id": "5hZLqjLk0YSf",
        "colab": {}
      },
      "source": [
        "y_pre = model.predict(X_test[:, np.newaxis])"
      ],
      "execution_count": 0,
      "outputs": []
    },
    {
      "cell_type": "code",
      "metadata": {
        "colab_type": "code",
        "outputId": "1c76b6e2-d847-4836-c235-336dd60c03bb",
        "id": "NhFx_FOG0YSi",
        "colab": {
          "base_uri": "https://localhost:8080/",
          "height": 295
        }
      },
      "source": [
        "plt.scatter(X, y, c='coral')\n",
        "plt.plot(X_test,y_pre)"
      ],
      "execution_count": 19,
      "outputs": [
        {
          "output_type": "execute_result",
          "data": {
            "text/plain": [
              "[<matplotlib.lines.Line2D at 0x7f7c6ff5c4a8>]"
            ]
          },
          "metadata": {
            "tags": []
          },
          "execution_count": 19
        },
        {
          "output_type": "display_data",
          "data": {
            "image/png": "[encoded data removed]",
            "text/plain": [
              "<Figure size 432x288 with 1 Axes>"
            ]
          },
          "metadata": {
            "tags": [],
            "needs_background": "light"
          }
        }
      ]
    },
    {
      "cell_type": "markdown",
      "metadata": {
        "colab_type": "text",
        "id": "eKbExjIF0YSo"
      },
      "source": [
        "## Evaluate the model"
      ]
    },
    {
      "cell_type": "markdown",
      "metadata": {
        "id": "8VYTfxTF12zT",
        "colab_type": "text"
      },
      "source": [
        "***Gía trị sai số trung bình***\n",
        "\n",
        "So với tập dữ liệu ở round 2, giá trị sai số trung bình của round 3 cao hơn khá nhiều (0,0427 so với 0.00821)"
      ]
    },
    {
      "cell_type": "code",
      "metadata": {
        "id": "QqXv1_cu1QYi",
        "colab_type": "code",
        "colab": {}
      },
      "source": [
        "evl = abs(y_pre - y_test)"
      ],
      "execution_count": 0,
      "outputs": []
    },
    {
      "cell_type": "code",
      "metadata": {
        "id": "IzvaUZlJ1apw",
        "colab_type": "code",
        "colab": {
          "base_uri": "https://localhost:8080/",
          "height": 34
        },
        "outputId": "87e30e28-6170-4718-95ce-8d57f91fe5ea"
      },
      "source": [
        "test_err_tb = evl.mean()\n",
        "print('Sai số trung bình:', test_err_tb)"
      ],
      "execution_count": 33,
      "outputs": [
        {
          "output_type": "stream",
          "text": [
            "Sai số trung bình: 0.04279038268781475\n"
          ],
          "name": "stdout"
        }
      ]
    },
    {
      "cell_type": "code",
      "metadata": {
        "id": "YGf50mhH2Pf7",
        "colab_type": "code",
        "colab": {}
      },
      "source": [
        "err_tb = evl/y_test\n",
        "err_tb = err_tb.mean()"
      ],
      "execution_count": 0,
      "outputs": []
    },
    {
      "cell_type": "code",
      "metadata": {
        "id": "MadTF0uN5A4E",
        "colab_type": "code",
        "colab": {
          "base_uri": "https://localhost:8080/",
          "height": 34
        },
        "outputId": "85cce50e-2d5c-4478-bd45-51df524c07cb"
      },
      "source": [
        "err_tb"
      ],
      "execution_count": 43,
      "outputs": [
        {
          "output_type": "execute_result",
          "data": {
            "text/plain": [
              "0.01606861016099637"
            ]
          },
          "metadata": {
            "tags": []
          },
          "execution_count": 43
        }
      ]
    },
    {
      "cell_type": "code",
      "metadata": {
        "id": "PJeluFPu5OdF",
        "colab_type": "code",
        "colab": {
          "base_uri": "https://localhost:8080/",
          "height": 34
        },
        "outputId": "5e4af686-17d5-499f-9a99-3a0d4affb4bc"
      },
      "source": [
        "print('Phan tram sai so tren gia tri thuc trung binh:', err_tb*100,'%')"
      ],
      "execution_count": 45,
      "outputs": [
        {
          "output_type": "stream",
          "text": [
            "Phan tram sai so tren gia tri thuc trung binh: 1.606861016099637 %\n"
          ],
          "name": "stdout"
        }
      ]
    },
    {
      "cell_type": "markdown",
      "metadata": {
        "id": "tbJkJjip6lwo",
        "colab_type": "text"
      },
      "source": [
        "## Tạo model mới"
      ]
    },
    {
      "cell_type": "code",
      "metadata": {
        "id": "ajRLVHik7NsL",
        "colab_type": "code",
        "colab": {}
      },
      "source": [
        "X = "
      ],
      "execution_count": 0,
      "outputs": []
    },
    {
      "cell_type": "code",
      "metadata": {
        "id": "rV7aiCmb6oit",
        "colab_type": "code",
        "colab": {}
      },
      "source": [
        "one = np.ones((X.shape[0], 1))\n",
        "Xbar = np.concatenate((one, X), axis = 1)"
      ],
      "execution_count": 0,
      "outputs": []
    }
  ]
}