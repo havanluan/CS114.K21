{
  "nbformat": 4,
  "nbformat_minor": 0,
  "metadata": {
    "colab": {
      "name": "Giuaki_Round3",
      "provenance": [],
      "collapsed_sections": [],
      "authorship_tag": "ABX9TyPq+e8ocaFaN7EVORPDKwvi",
      "include_colab_link": true
    },
    "kernelspec": {
      "name": "python3",
      "display_name": "Python 3"
    }
  },
  "cells": [
    {
      "cell_type": "markdown",
      "metadata": {
        "id": "view-in-github",
        "colab_type": "text"
      },
      "source": [
        "<a href=\"https://colab.research.google.com/github/havanluan/CS114.K21/blob/master/Giuaki_Round3.ipynb\" target=\"_parent\"><img src=\"https://colab.research.google.com/assets/colab-badge.svg\" alt=\"Open In Colab\"/></a>"
      ]
    },
    {
      "cell_type": "markdown",
      "metadata": {
        "colab_type": "text",
        "id": "VJS0BkQl0YQj"
      },
      "source": [
        "## Load Data"
      ]
    },
    {
      "cell_type": "markdown",
      "metadata": {
        "colab_type": "text",
        "id": "L3tdvPnr0YQo"
      },
      "source": [
        "***Lấy data từ link bằng thư viện pandas***\n",
        "\n",
        "Dùng method read_csv của pandas để đọc file txt từ link đưa vào.\n",
        "\n",
        "Method này sẽ đọc link và tạo ra một DataFrame với các cột lần lượt là size và time tương ứng. \n",
        "\n",
        "Ta cần rename lại các cột"
      ]
    },
    {
      "cell_type": "code",
      "metadata": {
        "id": "982r4FpF-4EY",
        "colab_type": "code",
        "colab": {}
      },
      "source": [
        "import pandas as pd"
      ],
      "execution_count": 0,
      "outputs": []
    },
    {
      "cell_type": "code",
      "metadata": {
        "colab_type": "code",
        "id": "Tnisu4g-0YQ2",
        "colab": {}
      },
      "source": [
        "url = \"http://cs.uit.edu.vn/data3.txt\""
      ],
      "execution_count": 0,
      "outputs": []
    },
    {
      "cell_type": "code",
      "metadata": {
        "colab_type": "code",
        "id": "5FDoICUC0YRA",
        "colab": {}
      },
      "source": [
        "data = pd.read_csv(url, header = None)\n"
      ],
      "execution_count": 0,
      "outputs": []
    },
    {
      "cell_type": "code",
      "metadata": {
        "colab_type": "code",
        "id": "M-7gyoPZ0YRJ",
        "colab": {}
      },
      "source": [
        "data.columns = ['Size','Time']"
      ],
      "execution_count": 0,
      "outputs": []
    },
    {
      "cell_type": "code",
      "metadata": {
        "colab_type": "code",
        "outputId": "855ffd78-d9b7-4eaf-f245-f93e4db13ed8",
        "id": "oh-G0kPZ0YRT",
        "colab": {
          "base_uri": "https://localhost:8080/",
          "height": 402
        }
      },
      "source": [
        "data"
      ],
      "execution_count": 226,
      "outputs": [
        {
          "output_type": "execute_result",
          "data": {
            "text/html": [
              "<div>\n",
              "<style scoped>\n",
              "    .dataframe tbody tr th:only-of-type {\n",
              "        vertical-align: middle;\n",
              "    }\n",
              "\n",
              "    .dataframe tbody tr th {\n",
              "        vertical-align: top;\n",
              "    }\n",
              "\n",
              "    .dataframe thead th {\n",
              "        text-align: right;\n",
              "    }\n",
              "</style>\n",
              "<table border=\"1\" class=\"dataframe\">\n",
              "  <thead>\n",
              "    <tr style=\"text-align: right;\">\n",
              "      <th></th>\n",
              "      <th>Size</th>\n",
              "      <th>Time</th>\n",
              "    </tr>\n",
              "  </thead>\n",
              "  <tbody>\n",
              "    <tr>\n",
              "      <th>0</th>\n",
              "      <td>37837612</td>\n",
              "      <td>4.12166</td>\n",
              "    </tr>\n",
              "    <tr>\n",
              "      <th>1</th>\n",
              "      <td>37395246</td>\n",
              "      <td>3.92089</td>\n",
              "    </tr>\n",
              "    <tr>\n",
              "      <th>2</th>\n",
              "      <td>36610827</td>\n",
              "      <td>3.21540</td>\n",
              "    </tr>\n",
              "    <tr>\n",
              "      <th>3</th>\n",
              "      <td>29555651</td>\n",
              "      <td>2.54506</td>\n",
              "    </tr>\n",
              "    <tr>\n",
              "      <th>4</th>\n",
              "      <td>25928216</td>\n",
              "      <td>2.21831</td>\n",
              "    </tr>\n",
              "    <tr>\n",
              "      <th>...</th>\n",
              "      <td>...</td>\n",
              "      <td>...</td>\n",
              "    </tr>\n",
              "    <tr>\n",
              "      <th>10585</th>\n",
              "      <td>26872494</td>\n",
              "      <td>2.35117</td>\n",
              "    </tr>\n",
              "    <tr>\n",
              "      <th>10586</th>\n",
              "      <td>20753811</td>\n",
              "      <td>1.79155</td>\n",
              "    </tr>\n",
              "    <tr>\n",
              "      <th>10587</th>\n",
              "      <td>33520323</td>\n",
              "      <td>2.90918</td>\n",
              "    </tr>\n",
              "    <tr>\n",
              "      <th>10588</th>\n",
              "      <td>21243264</td>\n",
              "      <td>1.80292</td>\n",
              "    </tr>\n",
              "    <tr>\n",
              "      <th>10589</th>\n",
              "      <td>21380484</td>\n",
              "      <td>1.82795</td>\n",
              "    </tr>\n",
              "  </tbody>\n",
              "</table>\n",
              "<p>10590 rows × 2 columns</p>\n",
              "</div>"
            ],
            "text/plain": [
              "           Size     Time\n",
              "0      37837612  4.12166\n",
              "1      37395246  3.92089\n",
              "2      36610827  3.21540\n",
              "3      29555651  2.54506\n",
              "4      25928216  2.21831\n",
              "...         ...      ...\n",
              "10585  26872494  2.35117\n",
              "10586  20753811  1.79155\n",
              "10587  33520323  2.90918\n",
              "10588  21243264  1.80292\n",
              "10589  21380484  1.82795\n",
              "\n",
              "[10590 rows x 2 columns]"
            ]
          },
          "metadata": {
            "tags": []
          },
          "execution_count": 226
        }
      ]
    },
    {
      "cell_type": "markdown",
      "metadata": {
        "colab_type": "text",
        "id": "pq2xLQ6x0YRe"
      },
      "source": [
        "## Visualize Data"
      ]
    },
    {
      "cell_type": "markdown",
      "metadata": {
        "colab_type": "text",
        "id": "ETZiHK9v0YRg"
      },
      "source": [
        "// Biểu diễn dữ liệu thể hiện sự biến thiên của Time phụ thuộc vào Size"
      ]
    },
    {
      "cell_type": "code",
      "metadata": {
        "colab_type": "code",
        "id": "d1lrE4KD0YRi",
        "colab": {}
      },
      "source": [
        "import matplotlib.pyplot as plt\n",
        "import numpy as np"
      ],
      "execution_count": 0,
      "outputs": []
    },
    {
      "cell_type": "code",
      "metadata": {
        "colab_type": "code",
        "id": "_g92xcOp0YRs",
        "colab": {}
      },
      "source": [
        "X = data.values[:,0].copy()\n",
        "y = data.values[:,1].copy()"
      ],
      "execution_count": 0,
      "outputs": []
    },
    {
      "cell_type": "code",
      "metadata": {
        "colab_type": "code",
        "id": "FRizuk7Y0YR1",
        "colab": {}
      },
      "source": [
        "X = np.array(X)\n",
        "y = np.array(y)"
      ],
      "execution_count": 0,
      "outputs": []
    },
    {
      "cell_type": "code",
      "metadata": {
        "colab_type": "code",
        "outputId": "8e5736f7-b8ba-47c8-d954-bb622aaa6ef4",
        "id": "_ky-Yy7l0YR9",
        "colab": {
          "base_uri": "https://localhost:8080/",
          "height": 312
        }
      },
      "source": [
        "plt.scatter(X, y, c='coral')\n",
        "plt.gca().update(dict(title='SIZE AND TIME', xlabel='Size', ylabel='Time'))"
      ],
      "execution_count": 230,
      "outputs": [
        {
          "output_type": "execute_result",
          "data": {
            "text/plain": [
              "[Text(0.5, 1.0, 'SIZE AND TIME'), Text(0.5, 0, 'Size'), Text(0, 0.5, 'Time')]"
            ]
          },
          "metadata": {
            "tags": []
          },
          "execution_count": 230
        },
        {
          "output_type": "display_data",
          "data": {
            "image/png": "[encoded data removed]",
            "text/plain": [
              "<Figure size 432x288 with 1 Axes>"
            ]
          },
          "metadata": {
            "tags": [],
            "needs_background": "light"
          }
        }
      ]
    },
    {
      "cell_type": "markdown",
      "metadata": {
        "colab_type": "text",
        "id": "uJfT1KvY0YSD"
      },
      "source": [
        "## Split Data"
      ]
    },
    {
      "cell_type": "markdown",
      "metadata": {
        "colab_type": "text",
        "id": "CWtaD2tt0YSF"
      },
      "source": [
        "***Phân chia dữ liệu thành hai tập train và test, trong đó tập test chiếm 20%***"
      ]
    },
    {
      "cell_type": "code",
      "metadata": {
        "colab_type": "code",
        "id": "DRqtp7kR0YSG",
        "colab": {}
      },
      "source": [
        "from sklearn.model_selection import train_test_split"
      ],
      "execution_count": 0,
      "outputs": []
    },
    {
      "cell_type": "code",
      "metadata": {
        "colab_type": "code",
        "id": "3gsmtoid0YSM",
        "colab": {}
      },
      "source": [
        "X_train, X_test, y_train, y_test = train_test_split(X, y, test_size=0.2)"
      ],
      "execution_count": 0,
      "outputs": []
    },
    {
      "cell_type": "markdown",
      "metadata": {
        "colab_type": "text",
        "id": "oMDG6UIm0YSd"
      },
      "source": [
        "## Predict Test Set"
      ]
    },
    {
      "cell_type": "markdown",
      "metadata": {
        "colab_type": "text",
        "id": "UVBRLWIZ0YSe"
      },
      "source": [
        "***Dùng model đã train ở trên, dự đoán trên tập test***\n",
        "\n",
        "Màu cam được biểu diễn là các điểm dữ liệu, màu xanh là đường thẳng theo hàm hypothesis có được sau khi train model"
      ]
    },
    {
      "cell_type": "code",
      "metadata": {
        "id": "Usr_evNzPwEv",
        "colab_type": "code",
        "colab": {}
      },
      "source": [
        "a = 8.456874995382559e-08\n",
        "b = -0.01594357399445545"
      ],
      "execution_count": 0,
      "outputs": []
    },
    {
      "cell_type": "code",
      "metadata": {
        "colab_type": "code",
        "id": "5hZLqjLk0YSf",
        "colab": {}
      },
      "source": [
        "y_pre = X_test*a + b"
      ],
      "execution_count": 0,
      "outputs": []
    },
    {
      "cell_type": "code",
      "metadata": {
        "id": "2l7lbpNoQL-v",
        "colab_type": "code",
        "colab": {
          "base_uri": "https://localhost:8080/",
          "height": 50
        },
        "outputId": "6985b5fa-3526-4372-bcce-c821e94e9825"
      },
      "source": [
        "y_pre"
      ],
      "execution_count": 235,
      "outputs": [
        {
          "output_type": "execute_result",
          "data": {
            "text/plain": [
              "array([2.09257253, 2.18115255, 2.62016568, ..., 2.16621466, 1.69205883,\n",
              "       2.16766747])"
            ]
          },
          "metadata": {
            "tags": []
          },
          "execution_count": 235
        }
      ]
    },
    {
      "cell_type": "code",
      "metadata": {
        "colab_type": "code",
        "outputId": "b9091b14-2367-40da-92b0-e964c564fac4",
        "id": "NhFx_FOG0YSi",
        "colab": {
          "base_uri": "https://localhost:8080/",
          "height": 295
        }
      },
      "source": [
        "plt.scatter(X, y, c='coral')\n",
        "plt.plot(X_test,y_pre)"
      ],
      "execution_count": 236,
      "outputs": [
        {
          "output_type": "execute_result",
          "data": {
            "text/plain": [
              "[<matplotlib.lines.Line2D at 0x7f7c6f94d7b8>]"
            ]
          },
          "metadata": {
            "tags": []
          },
          "execution_count": 236
        },
        {
          "output_type": "display_data",
          "data": {
            "image/png": "[encoded data removed]",
            "text/plain": [
              "<Figure size 432x288 with 1 Axes>"
            ]
          },
          "metadata": {
            "tags": [],
            "needs_background": "light"
          }
        }
      ]
    },
    {
      "cell_type": "markdown",
      "metadata": {
        "colab_type": "text",
        "id": "eKbExjIF0YSo"
      },
      "source": [
        "## Evaluate the model"
      ]
    },
    {
      "cell_type": "markdown",
      "metadata": {
        "id": "8VYTfxTF12zT",
        "colab_type": "text"
      },
      "source": [
        "***Gía trị sai số trung bình***\n",
        "\n",
        "So với tập dữ liệu ở round 2, trung bình phần trăm sai số trên giá trị thực của tập dữ liệu ở round 3 thấp hơn (4.35% so với 27.62%). Vì dữ liệu của round 2 có nhiều giá trị nhiễu."
      ]
    },
    {
      "cell_type": "code",
      "metadata": {
        "id": "QqXv1_cu1QYi",
        "colab_type": "code",
        "colab": {}
      },
      "source": [
        "evl = abs(y_pre - y_test)"
      ],
      "execution_count": 0,
      "outputs": []
    },
    {
      "cell_type": "code",
      "metadata": {
        "id": "IzvaUZlJ1apw",
        "colab_type": "code",
        "outputId": "652f3df2-5244-4a28-b6e4-25116760adef",
        "colab": {
          "base_uri": "https://localhost:8080/",
          "height": 34
        }
      },
      "source": [
        "test_err_tb = evl.mean()\n",
        "print('Sai số trung bình:', test_err_tb)"
      ],
      "execution_count": 238,
      "outputs": [
        {
          "output_type": "stream",
          "text": [
            "Sai số trung bình: 0.12070302340003153\n"
          ],
          "name": "stdout"
        }
      ]
    },
    {
      "cell_type": "code",
      "metadata": {
        "id": "YGf50mhH2Pf7",
        "colab_type": "code",
        "colab": {}
      },
      "source": [
        "err_tb = evl/y_test\n",
        "err_tb = err_tb.mean()"
      ],
      "execution_count": 0,
      "outputs": []
    },
    {
      "cell_type": "code",
      "metadata": {
        "id": "PJeluFPu5OdF",
        "colab_type": "code",
        "outputId": "e370f329-f50b-4b4a-f068-97e6de6e95ae",
        "colab": {
          "base_uri": "https://localhost:8080/",
          "height": 34
        }
      },
      "source": [
        "print('Trung binh phan tram sai so tren gia tri thuc:', err_tb*100,'%')"
      ],
      "execution_count": 240,
      "outputs": [
        {
          "output_type": "stream",
          "text": [
            "Trung binh phan tram sai so tren gia tri thuc: 4.357525788745079 %\n"
          ],
          "name": "stdout"
        }
      ]
    },
    {
      "cell_type": "markdown",
      "metadata": {
        "id": "tbJkJjip6lwo",
        "colab_type": "text"
      },
      "source": [
        "## Tạo model mới"
      ]
    },
    {
      "cell_type": "markdown",
      "metadata": {
        "id": "ODyOn0uD8V0f",
        "colab_type": "text"
      },
      "source": [
        "***Thêm thuộc tính với giá trị bằng 1 cho tất cả các instance***"
      ]
    },
    {
      "cell_type": "code",
      "metadata": {
        "id": "-UTqCmO28ABQ",
        "colab_type": "code",
        "colab": {}
      },
      "source": [
        "X = np.array([X])"
      ],
      "execution_count": 0,
      "outputs": []
    },
    {
      "cell_type": "code",
      "metadata": {
        "id": "IT9OzHJb8Ocl",
        "colab_type": "code",
        "colab": {}
      },
      "source": [
        "X = X.T"
      ],
      "execution_count": 0,
      "outputs": []
    },
    {
      "cell_type": "code",
      "metadata": {
        "id": "rV7aiCmb6oit",
        "colab_type": "code",
        "colab": {}
      },
      "source": [
        "one = np.ones((X.shape[0], 1))\n",
        "X = np.concatenate((one, X), axis = 1)"
      ],
      "execution_count": 0,
      "outputs": []
    },
    {
      "cell_type": "code",
      "metadata": {
        "id": "73Ti98Yz8Tb9",
        "colab_type": "code",
        "outputId": "617a6200-e26f-4c85-dc5f-c7382b2047f0",
        "colab": {
          "base_uri": "https://localhost:8080/",
          "height": 134
        }
      },
      "source": [
        "X"
      ],
      "execution_count": 244,
      "outputs": [
        {
          "output_type": "execute_result",
          "data": {
            "text/plain": [
              "array([[1.0000000e+00, 3.7837612e+07],\n",
              "       [1.0000000e+00, 3.7395246e+07],\n",
              "       [1.0000000e+00, 3.6610827e+07],\n",
              "       ...,\n",
              "       [1.0000000e+00, 3.3520323e+07],\n",
              "       [1.0000000e+00, 2.1243264e+07],\n",
              "       [1.0000000e+00, 2.1380484e+07]])"
            ]
          },
          "metadata": {
            "tags": []
          },
          "execution_count": 244
        }
      ]
    },
    {
      "cell_type": "markdown",
      "metadata": {
        "colab_type": "text",
        "id": "7JQ_lWyy9JFI"
      },
      "source": [
        "***Phân chia dữ liệu thành hai tập train và test, trong đó tập test chiếm 20%***"
      ]
    },
    {
      "cell_type": "code",
      "metadata": {
        "colab_type": "code",
        "id": "r-H9QhOQ9JFR",
        "colab": {}
      },
      "source": [
        "X_train, X_test, y_train, y_test = train_test_split(X, y, test_size=0.2)"
      ],
      "execution_count": 0,
      "outputs": []
    },
    {
      "cell_type": "markdown",
      "metadata": {
        "id": "IwnSvtiR8fXJ",
        "colab_type": "text"
      },
      "source": [
        "***Train model***"
      ]
    },
    {
      "cell_type": "code",
      "metadata": {
        "colab_type": "code",
        "id": "AEV-KW_o8tEm",
        "colab": {}
      },
      "source": [
        "model = LinearRegression(fit_intercept=True)"
      ],
      "execution_count": 0,
      "outputs": []
    },
    {
      "cell_type": "code",
      "metadata": {
        "colab_type": "code",
        "outputId": "7a6d23dd-33ec-4931-dfa3-37b688bfa01b",
        "id": "EFG-M4xs8tEw",
        "colab": {
          "base_uri": "https://localhost:8080/",
          "height": 34
        }
      },
      "source": [
        "model.fit(X_train, y_train)"
      ],
      "execution_count": 247,
      "outputs": [
        {
          "output_type": "execute_result",
          "data": {
            "text/plain": [
              "LinearRegression(copy_X=True, fit_intercept=True, n_jobs=None, normalize=False)"
            ]
          },
          "metadata": {
            "tags": []
          },
          "execution_count": 247
        }
      ]
    },
    {
      "cell_type": "code",
      "metadata": {
        "id": "4qgj934sT46x",
        "colab_type": "code",
        "colab": {}
      },
      "source": [
        "y_pre = model.predict(X_test)"
      ],
      "execution_count": 0,
      "outputs": []
    },
    {
      "cell_type": "markdown",
      "metadata": {
        "id": "T0l-6ldWUfAQ",
        "colab_type": "text"
      },
      "source": [
        "***Evaluate***"
      ]
    },
    {
      "cell_type": "code",
      "metadata": {
        "colab_type": "code",
        "id": "qkASFf7gUkTr",
        "colab": {}
      },
      "source": [
        "evl = abs(y_pre - y_test)"
      ],
      "execution_count": 0,
      "outputs": []
    },
    {
      "cell_type": "code",
      "metadata": {
        "colab_type": "code",
        "outputId": "e4fe6312-5f1f-4ac3-a13d-56568924cdcf",
        "id": "XSnVJLxTUkTu",
        "colab": {
          "base_uri": "https://localhost:8080/",
          "height": 34
        }
      },
      "source": [
        "test_err_tb = evl.mean()\n",
        "print('Sai số trung bình:', test_err_tb)"
      ],
      "execution_count": 250,
      "outputs": [
        {
          "output_type": "stream",
          "text": [
            "Sai số trung bình: 0.042837602778305735\n"
          ],
          "name": "stdout"
        }
      ]
    },
    {
      "cell_type": "code",
      "metadata": {
        "colab_type": "code",
        "id": "PgNmw2PeUkTw",
        "colab": {}
      },
      "source": [
        "err_tb = evl/y_test\n",
        "err_tb = err_tb.mean()"
      ],
      "execution_count": 0,
      "outputs": []
    },
    {
      "cell_type": "code",
      "metadata": {
        "colab_type": "code",
        "outputId": "b86121b7-b36a-4fa4-b958-e88e7f5da375",
        "id": "CPt8vORmUkTx",
        "colab": {
          "base_uri": "https://localhost:8080/",
          "height": 34
        }
      },
      "source": [
        "print('Trung binh phan tram sai so tren gia tri thuc:', err_tb*100,'%')"
      ],
      "execution_count": 253,
      "outputs": [
        {
          "output_type": "stream",
          "text": [
            "Trung binh phan tram sai so tren gia tri thuc: 1.623273972192402 %\n"
          ],
          "name": "stdout"
        }
      ]
    },
    {
      "cell_type": "markdown",
      "metadata": {
        "id": "CSyJyZl3Uq0T",
        "colab_type": "text"
      },
      "source": [
        "***Rút ra đánh giá***\n",
        "\n",
        "Gía trị trung bình phần trăm sai số trên giá trị thực của model này thấp hơn ( 1.62% so với 4.35%. Cho thấy model này dự đoán chính xác hơn"
      ]
    }
  ]
}